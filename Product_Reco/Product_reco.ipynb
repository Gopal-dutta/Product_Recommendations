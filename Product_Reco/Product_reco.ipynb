{
 "cells": [
  {
   "cell_type": "code",
   "execution_count": 1,
   "id": "7e67dd59-6369-475f-bd03-2bb647373d75",
   "metadata": {},
   "outputs": [
    {
     "name": "stdout",
     "output_type": "stream",
     "text": [
      "Defaulting to user installation because normal site-packages is not writeable\n",
      "Requirement already satisfied: requests in c:\\users\\mdutt\\appdata\\roaming\\python\\python312\\site-packages (2.31.0)\n",
      "Requirement already satisfied: charset-normalizer<4,>=2 in c:\\users\\mdutt\\appdata\\roaming\\python\\python312\\site-packages (from requests) (3.3.2)\n",
      "Requirement already satisfied: idna<4,>=2.5 in c:\\users\\mdutt\\appdata\\roaming\\python\\python312\\site-packages (from requests) (3.7)\n",
      "Requirement already satisfied: urllib3<3,>=1.21.1 in c:\\users\\mdutt\\appdata\\roaming\\python\\python312\\site-packages (from requests) (2.2.1)\n",
      "Requirement already satisfied: certifi>=2017.4.17 in c:\\users\\mdutt\\appdata\\roaming\\python\\python312\\site-packages (from requests) (2024.2.2)\n",
      "Defaulting to user installation because normal site-packages is not writeable\n",
      "Requirement already satisfied: beautifulsoup4 in c:\\users\\mdutt\\appdata\\roaming\\python\\python312\\site-packages (4.12.3)\n",
      "Requirement already satisfied: soupsieve>1.2 in c:\\users\\mdutt\\appdata\\roaming\\python\\python312\\site-packages (from beautifulsoup4) (2.5)\n",
      "Defaulting to user installation because normal site-packages is not writeable\n",
      "Requirement already satisfied: pandas in c:\\users\\mdutt\\appdata\\roaming\\python\\python312\\site-packages (2.2.2)\n",
      "Requirement already satisfied: numpy>=1.26.0 in c:\\users\\mdutt\\appdata\\roaming\\python\\python312\\site-packages (from pandas) (1.26.4)\n",
      "Requirement already satisfied: python-dateutil>=2.8.2 in c:\\users\\mdutt\\appdata\\roaming\\python\\python312\\site-packages (from pandas) (2.9.0.post0)\n",
      "Requirement already satisfied: pytz>=2020.1 in c:\\users\\mdutt\\appdata\\roaming\\python\\python312\\site-packages (from pandas) (2024.1)\n",
      "Requirement already satisfied: tzdata>=2022.7 in c:\\users\\mdutt\\appdata\\roaming\\python\\python312\\site-packages (from pandas) (2024.1)\n",
      "Requirement already satisfied: six>=1.5 in c:\\users\\mdutt\\appdata\\roaming\\python\\python312\\site-packages (from python-dateutil>=2.8.2->pandas) (1.16.0)\n",
      "Defaulting to user installation because normal site-packages is not writeable\n",
      "Requirement already satisfied: scikit-learn in c:\\users\\mdutt\\appdata\\roaming\\python\\python312\\site-packages (1.5.0)\n",
      "Requirement already satisfied: numpy>=1.19.5 in c:\\users\\mdutt\\appdata\\roaming\\python\\python312\\site-packages (from scikit-learn) (1.26.4)\n",
      "Requirement already satisfied: scipy>=1.6.0 in c:\\users\\mdutt\\appdata\\roaming\\python\\python312\\site-packages (from scikit-learn) (1.13.1)\n",
      "Requirement already satisfied: joblib>=1.2.0 in c:\\users\\mdutt\\appdata\\roaming\\python\\python312\\site-packages (from scikit-learn) (1.4.2)\n",
      "Requirement already satisfied: threadpoolctl>=3.1.0 in c:\\users\\mdutt\\appdata\\roaming\\python\\python312\\site-packages (from scikit-learn) (3.5.0)\n"
     ]
    }
   ],
   "source": [
    "!pip install requests\n",
    "!pip install beautifulsoup4\n",
    "!pip install pandas\n",
    "!pip install scikit-learn"
   ]
  },
  {
   "cell_type": "code",
   "execution_count": 2,
   "id": "8cd9aa69-936e-4f53-a4d7-1397925d0ba5",
   "metadata": {},
   "outputs": [
    {
     "name": "stdout",
     "output_type": "stream",
     "text": [
      "Requirement already satisfied: tqdm in c:\\users\\mdutt\\appdata\\roaming\\python\\python312\\site-packages (4.66.4)\n",
      "Requirement already satisfied: colorama in c:\\users\\mdutt\\appdata\\roaming\\python\\python312\\site-packages (from tqdm) (0.4.6)\n"
     ]
    }
   ],
   "source": [
    "!pip install --user tqdm"
   ]
  },
  {
   "cell_type": "code",
   "execution_count": 3,
   "id": "bb115253-3693-4c3a-a005-a261c24aa5de",
   "metadata": {},
   "outputs": [],
   "source": [
    "from tqdm.notebook import tqdm"
   ]
  },
  {
   "cell_type": "code",
   "execution_count": 5,
   "id": "a9147630-0e08-4fb7-b9da-bcae1796853b",
   "metadata": {},
   "outputs": [],
   "source": [
    "import requests\n",
    "from bs4 import BeautifulSoup\n",
    "import pandas as pd\n",
    "from sklearn.metrics.pairwise import cosine_similarity\n",
    "import time\n",
    "import random\n",
    "\n",
    "def scrape_amazon_product_data(url):\n",
    "    headers = {\n",
    "        'User-Agent': 'Mozilla/5.0 (Windows NT 10.0; Win64; x64) AppleWebKit/537.36 (KHTML, like Gecko) Chrome/58.0.3029.110 Safari/537.3'}\n",
    "    page = requests.get(url, headers=headers)\n",
    "    soup = BeautifulSoup(page.content, 'html.parser')\n",
    "    product_data = []\n",
    "    \n",
    "    # Find all product containers\n",
    "    for product in soup.find_all('div', {'data-component-type': 's-search-result'}):\n",
    "        product_name = product.h2.text.strip()\n",
    "        try:\n",
    "            product_price = product.find('span', 'a-price').find('span', 'a-offscreen').text\n",
    "        except AttributeError:\n",
    "            product_price = 'N/A'  # Handle missing price\n",
    "        \n",
    "        product_data.append({\n",
    "            'product_name': product_name,\n",
    "            'product_price': product_price\n",
    "        })\n",
    "    return product_data\n"
   ]
  },
  {
   "cell_type": "code",
   "execution_count": 50,
   "id": "d095f26c-9087-4d47-898c-39b68b8d54a1",
   "metadata": {},
   "outputs": [
    {
     "name": "stdin",
     "output_type": "stream",
     "text": [
      "Enter the product you want recommendations of :-  guitar\n"
     ]
    },
    {
     "data": {
      "application/vnd.jupyter.widget-view+json": {
       "model_id": "ac61888aab41447c80a600bce78bb871",
       "version_major": 2,
       "version_minor": 0
      },
      "text/plain": [
       "  0%|          | 0/9 [00:00<?, ?it/s]"
      ]
     },
     "metadata": {},
     "output_type": "display_data"
    },
    {
     "data": {
      "text/html": [
       "<div>\n",
       "<style scoped>\n",
       "    .dataframe tbody tr th:only-of-type {\n",
       "        vertical-align: middle;\n",
       "    }\n",
       "\n",
       "    .dataframe tbody tr th {\n",
       "        vertical-align: top;\n",
       "    }\n",
       "\n",
       "    .dataframe thead th {\n",
       "        text-align: right;\n",
       "    }\n",
       "</style>\n",
       "<table border=\"1\" class=\"dataframe\">\n",
       "  <thead>\n",
       "    <tr style=\"text-align: right;\">\n",
       "      <th></th>\n",
       "      <th>product_name</th>\n",
       "      <th>product_price</th>\n",
       "    </tr>\n",
       "  </thead>\n",
       "  <tbody>\n",
       "    <tr>\n",
       "      <th>0</th>\n",
       "      <td>Juârez Acoustic Guitar Kit, 38 Inch Cutaway, 0...</td>\n",
       "      <td>₹2,179</td>\n",
       "    </tr>\n",
       "    <tr>\n",
       "      <th>1</th>\n",
       "      <td>Intern INT-38C Right hand Acoustic Guitar Kit,...</td>\n",
       "      <td>₹2,179</td>\n",
       "    </tr>\n",
       "    <tr>\n",
       "      <th>2</th>\n",
       "      <td>Juârez Acoustic Guitar, 38 Inch Cutaway, 038C ...</td>\n",
       "      <td>₹2,198</td>\n",
       "    </tr>\n",
       "    <tr>\n",
       "      <th>3</th>\n",
       "      <td>Juârez JRZ38C/WH 6 Strings Acoustic Guitar 38 ...</td>\n",
       "      <td>₹2,199</td>\n",
       "    </tr>\n",
       "    <tr>\n",
       "      <th>4</th>\n",
       "      <td>Intern INT-38C-SB Right hand Acoustic Guitar K...</td>\n",
       "      <td>₹2,198</td>\n",
       "    </tr>\n",
       "  </tbody>\n",
       "</table>\n",
       "</div>"
      ],
      "text/plain": [
       "                                        product_name product_price\n",
       "0  Juârez Acoustic Guitar Kit, 38 Inch Cutaway, 0...        ₹2,179\n",
       "1  Intern INT-38C Right hand Acoustic Guitar Kit,...        ₹2,179\n",
       "2  Juârez Acoustic Guitar, 38 Inch Cutaway, 038C ...        ₹2,198\n",
       "3  Juârez JRZ38C/WH 6 Strings Acoustic Guitar 38 ...        ₹2,199\n",
       "4  Intern INT-38C-SB Right hand Acoustic Guitar K...        ₹2,198"
      ]
     },
     "execution_count": 50,
     "metadata": {},
     "output_type": "execute_result"
    }
   ],
   "source": [
    "# Scrape data from Amazon\n",
    "product1=input(\"Enter the product you want recommendations of :- \")\n",
    "base_url = 'https://www.amazon.in/s?k='+product1  # Example search for laptops\n",
    "scraped_data = []\n",
    "for i in tqdm(range(1, 10)):\n",
    "    url = base_url.format(i)\n",
    "    scraped_data.extend(scrape_amazon_product_data(url))\n",
    "\n",
    "# Create a DataFrame from the scraped data\n",
    "df = pd.DataFrame(scraped_data)\n",
    "df.head()"
   ]
  },
  {
   "cell_type": "code",
   "execution_count": 51,
   "id": "25273541-bd2b-4bfa-a728-13cc7a23d831",
   "metadata": {},
   "outputs": [
    {
     "name": "stdout",
     "output_type": "stream",
     "text": [
      "    user_id                                       product_name  rating\n",
      "0         2  Intern INT-38C-NT-G 38 Incheses lindenwood Rig...       5\n",
      "1         1  BLUEBERRY, B-38C Acoustic Guitar Kit with Bag,...       3\n",
      "2         4  BLUEBERRY, B-38C Acoustic Guitar Kit with Bag,...       4\n",
      "3         1  Kadence A281 Professional Acoustic Rosewood gu...       2\n",
      "4         4  Yamaha FS80C 25 Incheses sprucewood The Ultima...       3\n",
      "5         5          YAMAHA FS80C BLACK CONCERT CUTAWAY GUITAR       5\n",
      "6         5  JUAREZ Engineered Wood Acoustic Guitar, 38 Inc...       3\n",
      "7         4       Intern INT-38C Acoustic Guitar Kit (Natural)       5\n",
      "8         1  Intern INT-38C-BK-G Cutaway Right Handed Acous...       5\n",
      "9         1  Juârez Acoustic Guitar, 38 Inch Cutaway, 038C ...       4\n",
      "10        2  YAMAHA Mexa Yamaha F310, Dreadnought Acoustic ...       1\n",
      "11        4  Juârez Acoustic Guitar, 38 Inch Cutaway, 038C ...       5\n",
      "12        1  Intern INT-38C-NT-G 38 Incheses lindenwood Rig...       5\n",
      "13        2  Yamaha F280 Acoustic Rosewood Guitar (Natural,...       5\n",
      "14        4  Yamaha 22.8 Inches Merantiwood Classical Guita...       3\n",
      "15        1  Yamaha 22.8 Inches Merantiwood Classical Guita...       1\n",
      "16        2           Intern INT-38C Acoustic Guitar Kit (Red)       3\n",
      "17        4  Intern INT-38C-SB Right hand Acoustic Guitar K...       5\n",
      "18        3       Intern INT-38C Acoustic Guitar Kit (Natural)       5\n",
      "19        4  Intern INT-38C-NT-G 38 Incheses lindenwood Rig...       2\n"
     ]
    }
   ],
   "source": [
    "# Simulate user ratings for a realistic scenario\n",
    "user_ids = [1, 2, 3, 4, 5]  # Example user IDs\n",
    "num_ratings = 20  # Total number of ratings to simulate\n",
    "\n",
    "user_ratings = []\n",
    "for _ in range(num_ratings):\n",
    "    user_id = random.choice(user_ids)  # Randomly select a user ID\n",
    "    product_name = random.choice(df['product_name'].tolist())  # Randomly select a product name\n",
    "    rating = random.randint(1, 5)  # Randomly assign a rating between 1 and 5\n",
    "    user_ratings.append({'user_id': user_id, 'product_name': product_name, 'rating': rating})\n",
    "\n",
    "user_ratings_df = pd.DataFrame(user_ratings)\n",
    "print(user_ratings_df)"
   ]
  },
  {
   "cell_type": "code",
   "execution_count": 52,
   "id": "9e3c7ff3-8ed7-4e9b-b980-60970246bae4",
   "metadata": {
    "scrolled": true
   },
   "outputs": [
    {
     "name": "stdout",
     "output_type": "stream",
     "text": [
      "Top 5 product recommendations for User 4:\n",
      "\n",
      "Intern INT-38C-BK-G Cutaway Right Handed Acoustic Guitar Kit, with Bag, Nickel Strings, Pick And Strap (Black) -6 Strings: Predicted rating = 0.71\n",
      "\n",
      "Juârez Acoustic Guitar, 38 Inch Cutaway, 038C with Bag, Strings, Pick and Strap, Black (Acoustic Guitar Kit, BLUE SUNBURST): Predicted rating = 0.57\n",
      "\n",
      "Yamaha F280 Acoustic Rosewood Guitar (Natural, Beige): Predicted rating = 0.33\n",
      "\n",
      "Kadence A281 Professional Acoustic Rosewood guitar (Natural, Beige): Predicted rating = 0.28\n",
      "\n",
      "Intern INT-38C Acoustic Guitar Kit (Red): Predicted rating = 0.20\n"
     ]
    }
   ],
   "source": [
    "# Aggregate ratings by taking the mean of duplicates\n",
    "user_ratings_agg = user_ratings_df.groupby(['user_id', 'product_name'])['rating'].mean().reset_index()\n",
    "\n",
    "# Create a user-item matrix\n",
    "user_item_matrix = user_ratings_agg.pivot(index='user_id', columns='product_name', values='rating').fillna(0)\n",
    "\n",
    "# Calculate cosine similarity between users\n",
    "user_similarity = cosine_similarity(user_item_matrix)\n",
    "\n",
    "# The rest of your code remains the same\n",
    "def get_recommendations(user_id, n=5):\n",
    "    user_row = user_item_matrix.loc[user_id]\n",
    "    similar_users = user_similarity[user_id - 1]  # Adjust for 0-based indexing\n",
    "    \n",
    "    # Get products the user hasn't rated\n",
    "    unrated_products = user_row[user_row == 0].index\n",
    "    \n",
    "    # Calculate predicted ratings\n",
    "    predicted_ratings = {}\n",
    "    for product in unrated_products:\n",
    "        product_ratings = user_item_matrix[product]\n",
    "        weighted_sum = sum(similar_users * product_ratings)\n",
    "        similarity_sum = sum(similar_users)\n",
    "        predicted_ratings[product] = weighted_sum / similarity_sum if similarity_sum != 0 else 0\n",
    "    \n",
    "    # Sort and return top N recommendations\n",
    "    sorted_recommendations = sorted(predicted_ratings.items(), key=lambda x: x[1], reverse=True)\n",
    "    return sorted_recommendations[:n]\n",
    "\n",
    "# Example usage\n",
    "user_id = 4\n",
    "recommendations = get_recommendations(user_id)\n",
    "print(f\"Top 5 product recommendations for User {user_id}:\")\n",
    "for product, predicted_rating in recommendations:\n",
    "    print(f\"\\n{product}: Predicted rating = {predicted_rating:.2f}\")"
   ]
  },
  {
   "cell_type": "code",
   "execution_count": 53,
   "id": "cbc19c53-3966-44fe-8971-7909b1b0e5fa",
   "metadata": {},
   "outputs": [],
   "source": [
    "df.to_csv('commerse_data.csv', index=False)\n",
    "user_ratings_df.to_csv('user_ratings.csv' , index=False)"
   ]
  },
  {
   "cell_type": "code",
   "execution_count": null,
   "id": "807a690f-3281-40d0-bf84-9433bf6bbecb",
   "metadata": {},
   "outputs": [],
   "source": []
  },
  {
   "cell_type": "code",
   "execution_count": null,
   "id": "de7fe13b-e32e-4d16-af38-b32ed99abc2b",
   "metadata": {},
   "outputs": [],
   "source": []
  }
 ],
 "metadata": {
  "kernelspec": {
   "display_name": "Python 3 (ipykernel)",
   "language": "python",
   "name": "python3"
  },
  "language_info": {
   "codemirror_mode": {
    "name": "ipython",
    "version": 3
   },
   "file_extension": ".py",
   "mimetype": "text/x-python",
   "name": "python",
   "nbconvert_exporter": "python",
   "pygments_lexer": "ipython3",
   "version": "3.10.6"
  }
 },
 "nbformat": 4,
 "nbformat_minor": 5
}
